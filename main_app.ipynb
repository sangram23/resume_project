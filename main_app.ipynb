{
 "cells": [
  {
   "cell_type": "code",
   "execution_count": 13,
   "id": "492935d8",
   "metadata": {},
   "outputs": [
    {
     "name": "stdout",
     "output_type": "stream",
     "text": [
      "['/home/sangram/python_pratice/llm/test_llm', '/usr/lib/python311.zip', '/usr/lib/python3.11', '/usr/lib/python3.11/lib-dynload', '', '/home/sangram/python_pratice/llm/llm_run/lib/python3.11/site-packages', '/home/sangram/python_pratice/llm/llm_run/lib/python3.11/site-packages/onnxruntime/transformers', '/home/sangram/python_pratice/llm/llm_run/lib/python3.11/site-packages/onnxruntime/transformers/../tools']\n",
      "call from project_forntend\n",
      "API key found and looks good so far!\n",
      "/home/sangram/python_pratice/llm/test_llm/my_resume_project\n"
     ]
    }
   ],
   "source": [
    "# from project_forntend import call_llm\n",
    "import sys\n",
    "import os\n",
    "sys.path.insert(0,\"/home/sangram/python_pratice/llm/test_llm\")\n",
    "print(sys.path)\n",
    "from  project_forntend.LLM import call_llm\n",
    "llm=call_llm()\n",
    "print(os.getcwd())\n"
   ]
  },
  {
   "cell_type": "code",
   "execution_count": 1,
   "id": "ea55d6e5",
   "metadata": {},
   "outputs": [
    {
     "ename": "ImportError",
     "evalue": "cannot import name 'PSSyntaxError' from 'pdfminer.pdfparser' (/home/sangram/python_pratice/llm/llm_run/lib/python3.11/site-packages/pdfminer/pdfparser.py)",
     "output_type": "error",
     "traceback": [
      "\u001b[0;31m---------------------------------------------------------------------------\u001b[0m",
      "\u001b[0;31mImportError\u001b[0m                               Traceback (most recent call last)",
      "Cell \u001b[0;32mIn[1], line 6\u001b[0m\n\u001b[1;32m      4\u001b[0m loader_resume_un\u001b[38;5;241m=\u001b[39mUnstructuredPDFLoader(resume,partition_via_api \u001b[38;5;241m=\u001b[39m \u001b[38;5;28;01mTrue\u001b[39;00m)\n\u001b[1;32m      5\u001b[0m pages\u001b[38;5;241m=\u001b[39mloader_resume\u001b[38;5;241m.\u001b[39mload()\n\u001b[0;32m----> 6\u001b[0m pages_un\u001b[38;5;241m=\u001b[39m\u001b[43mloader_resume_un\u001b[49m\u001b[38;5;241;43m.\u001b[39;49m\u001b[43mload\u001b[49m\u001b[43m(\u001b[49m\u001b[43m)\u001b[49m\n",
      "File \u001b[0;32m~/python_pratice/llm/llm_run/lib/python3.11/site-packages/langchain_core/document_loaders/base.py:32\u001b[0m, in \u001b[0;36mBaseLoader.load\u001b[0;34m(self)\u001b[0m\n\u001b[1;32m     30\u001b[0m \u001b[38;5;28;01mdef\u001b[39;00m\u001b[38;5;250m \u001b[39m\u001b[38;5;21mload\u001b[39m(\u001b[38;5;28mself\u001b[39m) \u001b[38;5;241m-\u001b[39m\u001b[38;5;241m>\u001b[39m \u001b[38;5;28mlist\u001b[39m[Document]:\n\u001b[1;32m     31\u001b[0m \u001b[38;5;250m    \u001b[39m\u001b[38;5;124;03m\"\"\"Load data into Document objects.\"\"\"\u001b[39;00m\n\u001b[0;32m---> 32\u001b[0m     \u001b[38;5;28;01mreturn\u001b[39;00m \u001b[38;5;28;43mlist\u001b[39;49m\u001b[43m(\u001b[49m\u001b[38;5;28;43mself\u001b[39;49m\u001b[38;5;241;43m.\u001b[39;49m\u001b[43mlazy_load\u001b[49m\u001b[43m(\u001b[49m\u001b[43m)\u001b[49m\u001b[43m)\u001b[49m\n",
      "File \u001b[0;32m~/python_pratice/llm/llm_run/lib/python3.11/site-packages/langchain_community/document_loaders/unstructured.py:107\u001b[0m, in \u001b[0;36mUnstructuredBaseLoader.lazy_load\u001b[0;34m(self)\u001b[0m\n\u001b[1;32m    105\u001b[0m \u001b[38;5;28;01mdef\u001b[39;00m\u001b[38;5;250m \u001b[39m\u001b[38;5;21mlazy_load\u001b[39m(\u001b[38;5;28mself\u001b[39m) \u001b[38;5;241m-\u001b[39m\u001b[38;5;241m>\u001b[39m Iterator[Document]:\n\u001b[1;32m    106\u001b[0m \u001b[38;5;250m    \u001b[39m\u001b[38;5;124;03m\"\"\"Load file.\"\"\"\u001b[39;00m\n\u001b[0;32m--> 107\u001b[0m     elements \u001b[38;5;241m=\u001b[39m \u001b[38;5;28;43mself\u001b[39;49m\u001b[38;5;241;43m.\u001b[39;49m\u001b[43m_get_elements\u001b[49m\u001b[43m(\u001b[49m\u001b[43m)\u001b[49m\n\u001b[1;32m    108\u001b[0m     \u001b[38;5;28mself\u001b[39m\u001b[38;5;241m.\u001b[39m_post_process_elements(elements)\n\u001b[1;32m    109\u001b[0m     \u001b[38;5;28;01mif\u001b[39;00m \u001b[38;5;28mself\u001b[39m\u001b[38;5;241m.\u001b[39mmode \u001b[38;5;241m==\u001b[39m \u001b[38;5;124m\"\u001b[39m\u001b[38;5;124melements\u001b[39m\u001b[38;5;124m\"\u001b[39m:\n",
      "File \u001b[0;32m~/python_pratice/llm/llm_run/lib/python3.11/site-packages/langchain_community/document_loaders/pdf.py:92\u001b[0m, in \u001b[0;36mUnstructuredPDFLoader._get_elements\u001b[0;34m(self)\u001b[0m\n\u001b[1;32m     91\u001b[0m \u001b[38;5;28;01mdef\u001b[39;00m\u001b[38;5;250m \u001b[39m\u001b[38;5;21m_get_elements\u001b[39m(\u001b[38;5;28mself\u001b[39m) \u001b[38;5;241m-\u001b[39m\u001b[38;5;241m>\u001b[39m \u001b[38;5;28mlist\u001b[39m:\n\u001b[0;32m---> 92\u001b[0m     \u001b[38;5;28;01mfrom\u001b[39;00m\u001b[38;5;250m \u001b[39m\u001b[38;5;21;01munstructured\u001b[39;00m\u001b[38;5;21;01m.\u001b[39;00m\u001b[38;5;21;01mpartition\u001b[39;00m\u001b[38;5;21;01m.\u001b[39;00m\u001b[38;5;21;01mpdf\u001b[39;00m\u001b[38;5;250m \u001b[39m\u001b[38;5;28;01mimport\u001b[39;00m partition_pdf\n\u001b[1;32m     94\u001b[0m     \u001b[38;5;28;01mreturn\u001b[39;00m partition_pdf(filename\u001b[38;5;241m=\u001b[39m\u001b[38;5;28mself\u001b[39m\u001b[38;5;241m.\u001b[39mfile_path, \u001b[38;5;241m*\u001b[39m\u001b[38;5;241m*\u001b[39m\u001b[38;5;28mself\u001b[39m\u001b[38;5;241m.\u001b[39munstructured_kwargs)\n",
      "File \u001b[0;32m~/python_pratice/llm/llm_run/lib/python3.11/site-packages/unstructured/partition/pdf.py:74\u001b[0m\n\u001b[1;32m     68\u001b[0m \u001b[38;5;28;01mfrom\u001b[39;00m\u001b[38;5;250m \u001b[39m\u001b[38;5;21;01munstructured\u001b[39;00m\u001b[38;5;21;01m.\u001b[39;00m\u001b[38;5;21;01mpartition\u001b[39;00m\u001b[38;5;21;01m.\u001b[39;00m\u001b[38;5;21;01mpdf_image\u001b[39;00m\u001b[38;5;21;01m.\u001b[39;00m\u001b[38;5;21;01mform_extraction\u001b[39;00m\u001b[38;5;250m \u001b[39m\u001b[38;5;28;01mimport\u001b[39;00m run_form_extraction\n\u001b[1;32m     69\u001b[0m \u001b[38;5;28;01mfrom\u001b[39;00m\u001b[38;5;250m \u001b[39m\u001b[38;5;21;01munstructured\u001b[39;00m\u001b[38;5;21;01m.\u001b[39;00m\u001b[38;5;21;01mpartition\u001b[39;00m\u001b[38;5;21;01m.\u001b[39;00m\u001b[38;5;21;01mpdf_image\u001b[39;00m\u001b[38;5;21;01m.\u001b[39;00m\u001b[38;5;21;01mpdf_image_utils\u001b[39;00m\u001b[38;5;250m \u001b[39m\u001b[38;5;28;01mimport\u001b[39;00m (\n\u001b[1;32m     70\u001b[0m     check_element_types_to_extract,\n\u001b[1;32m     71\u001b[0m     convert_pdf_to_images,\n\u001b[1;32m     72\u001b[0m     save_elements,\n\u001b[1;32m     73\u001b[0m )\n\u001b[0;32m---> 74\u001b[0m \u001b[38;5;28;01mfrom\u001b[39;00m\u001b[38;5;250m \u001b[39m\u001b[38;5;21;01munstructured\u001b[39;00m\u001b[38;5;21;01m.\u001b[39;00m\u001b[38;5;21;01mpartition\u001b[39;00m\u001b[38;5;21;01m.\u001b[39;00m\u001b[38;5;21;01mpdf_image\u001b[39;00m\u001b[38;5;21;01m.\u001b[39;00m\u001b[38;5;21;01mpdfminer_processing\u001b[39;00m\u001b[38;5;250m \u001b[39m\u001b[38;5;28;01mimport\u001b[39;00m (\n\u001b[1;32m     75\u001b[0m     check_annotations_within_element,\n\u001b[1;32m     76\u001b[0m     clean_pdfminer_inner_elements,\n\u001b[1;32m     77\u001b[0m     get_links_in_element,\n\u001b[1;32m     78\u001b[0m     get_uris,\n\u001b[1;32m     79\u001b[0m     get_words_from_obj,\n\u001b[1;32m     80\u001b[0m     map_bbox_and_index,\n\u001b[1;32m     81\u001b[0m     merge_inferred_with_extracted_layout,\n\u001b[1;32m     82\u001b[0m )\n\u001b[1;32m     83\u001b[0m \u001b[38;5;28;01mfrom\u001b[39;00m\u001b[38;5;250m \u001b[39m\u001b[38;5;21;01munstructured\u001b[39;00m\u001b[38;5;21;01m.\u001b[39;00m\u001b[38;5;21;01mpartition\u001b[39;00m\u001b[38;5;21;01m.\u001b[39;00m\u001b[38;5;21;01mpdf_image\u001b[39;00m\u001b[38;5;21;01m.\u001b[39;00m\u001b[38;5;21;01mpdfminer_utils\u001b[39;00m\u001b[38;5;250m \u001b[39m\u001b[38;5;28;01mimport\u001b[39;00m (\n\u001b[1;32m     84\u001b[0m     open_pdfminer_pages_generator,\n\u001b[1;32m     85\u001b[0m     rect_to_bbox,\n\u001b[1;32m     86\u001b[0m )\n\u001b[1;32m     87\u001b[0m \u001b[38;5;28;01mfrom\u001b[39;00m\u001b[38;5;250m \u001b[39m\u001b[38;5;21;01munstructured\u001b[39;00m\u001b[38;5;21;01m.\u001b[39;00m\u001b[38;5;21;01mpartition\u001b[39;00m\u001b[38;5;21;01m.\u001b[39;00m\u001b[38;5;21;01mstrategies\u001b[39;00m\u001b[38;5;250m \u001b[39m\u001b[38;5;28;01mimport\u001b[39;00m determine_pdf_or_image_strategy, validate_strategy\n",
      "File \u001b[0;32m~/python_pratice/llm/llm_run/lib/python3.11/site-packages/unstructured/partition/pdf_image/pdfminer_processing.py:14\u001b[0m\n\u001b[1;32m     12\u001b[0m \u001b[38;5;28;01mfrom\u001b[39;00m\u001b[38;5;250m \u001b[39m\u001b[38;5;21;01munstructured\u001b[39;00m\u001b[38;5;21;01m.\u001b[39;00m\u001b[38;5;21;01mdocuments\u001b[39;00m\u001b[38;5;21;01m.\u001b[39;00m\u001b[38;5;21;01melements\u001b[39;00m\u001b[38;5;250m \u001b[39m\u001b[38;5;28;01mimport\u001b[39;00m CoordinatesMetadata\n\u001b[1;32m     13\u001b[0m \u001b[38;5;28;01mfrom\u001b[39;00m\u001b[38;5;250m \u001b[39m\u001b[38;5;21;01munstructured\u001b[39;00m\u001b[38;5;21;01m.\u001b[39;00m\u001b[38;5;21;01mpartition\u001b[39;00m\u001b[38;5;21;01m.\u001b[39;00m\u001b[38;5;21;01mpdf_image\u001b[39;00m\u001b[38;5;21;01m.\u001b[39;00m\u001b[38;5;21;01mpdf_image_utils\u001b[39;00m\u001b[38;5;250m \u001b[39m\u001b[38;5;28;01mimport\u001b[39;00m remove_control_characters\n\u001b[0;32m---> 14\u001b[0m \u001b[38;5;28;01mfrom\u001b[39;00m\u001b[38;5;250m \u001b[39m\u001b[38;5;21;01munstructured\u001b[39;00m\u001b[38;5;21;01m.\u001b[39;00m\u001b[38;5;21;01mpartition\u001b[39;00m\u001b[38;5;21;01m.\u001b[39;00m\u001b[38;5;21;01mpdf_image\u001b[39;00m\u001b[38;5;21;01m.\u001b[39;00m\u001b[38;5;21;01mpdfminer_utils\u001b[39;00m\u001b[38;5;250m \u001b[39m\u001b[38;5;28;01mimport\u001b[39;00m (\n\u001b[1;32m     15\u001b[0m     extract_image_objects,\n\u001b[1;32m     16\u001b[0m     extract_text_objects,\n\u001b[1;32m     17\u001b[0m     open_pdfminer_pages_generator,\n\u001b[1;32m     18\u001b[0m     rect_to_bbox,\n\u001b[1;32m     19\u001b[0m )\n\u001b[1;32m     20\u001b[0m \u001b[38;5;28;01mfrom\u001b[39;00m\u001b[38;5;250m \u001b[39m\u001b[38;5;21;01munstructured\u001b[39;00m\u001b[38;5;21;01m.\u001b[39;00m\u001b[38;5;21;01mpartition\u001b[39;00m\u001b[38;5;21;01m.\u001b[39;00m\u001b[38;5;21;01mutils\u001b[39;00m\u001b[38;5;21;01m.\u001b[39;00m\u001b[38;5;21;01mconfig\u001b[39;00m\u001b[38;5;250m \u001b[39m\u001b[38;5;28;01mimport\u001b[39;00m env_config\n\u001b[1;32m     21\u001b[0m \u001b[38;5;28;01mfrom\u001b[39;00m\u001b[38;5;250m \u001b[39m\u001b[38;5;21;01munstructured\u001b[39;00m\u001b[38;5;21;01m.\u001b[39;00m\u001b[38;5;21;01mpartition\u001b[39;00m\u001b[38;5;21;01m.\u001b[39;00m\u001b[38;5;21;01mutils\u001b[39;00m\u001b[38;5;21;01m.\u001b[39;00m\u001b[38;5;21;01mconstants\u001b[39;00m\u001b[38;5;250m \u001b[39m\u001b[38;5;28;01mimport\u001b[39;00m SORT_MODE_BASIC, Source\n",
      "File \u001b[0;32m~/python_pratice/llm/llm_run/lib/python3.11/site-packages/unstructured/partition/pdf_image/pdfminer_utils.py:9\u001b[0m\n\u001b[1;32m      7\u001b[0m \u001b[38;5;28;01mfrom\u001b[39;00m\u001b[38;5;250m \u001b[39m\u001b[38;5;21;01mpdfminer\u001b[39;00m\u001b[38;5;21;01m.\u001b[39;00m\u001b[38;5;21;01mpdfinterp\u001b[39;00m\u001b[38;5;250m \u001b[39m\u001b[38;5;28;01mimport\u001b[39;00m PDFPageInterpreter, PDFResourceManager\n\u001b[1;32m      8\u001b[0m \u001b[38;5;28;01mfrom\u001b[39;00m\u001b[38;5;250m \u001b[39m\u001b[38;5;21;01mpdfminer\u001b[39;00m\u001b[38;5;21;01m.\u001b[39;00m\u001b[38;5;21;01mpdfpage\u001b[39;00m\u001b[38;5;250m \u001b[39m\u001b[38;5;28;01mimport\u001b[39;00m PDFPage\n\u001b[0;32m----> 9\u001b[0m \u001b[38;5;28;01mfrom\u001b[39;00m\u001b[38;5;250m \u001b[39m\u001b[38;5;21;01mpdfminer\u001b[39;00m\u001b[38;5;21;01m.\u001b[39;00m\u001b[38;5;21;01mpdfparser\u001b[39;00m\u001b[38;5;250m \u001b[39m\u001b[38;5;28;01mimport\u001b[39;00m PSSyntaxError\n\u001b[1;32m     11\u001b[0m \u001b[38;5;28;01mfrom\u001b[39;00m\u001b[38;5;250m \u001b[39m\u001b[38;5;21;01munstructured\u001b[39;00m\u001b[38;5;21;01m.\u001b[39;00m\u001b[38;5;21;01mlogger\u001b[39;00m\u001b[38;5;250m \u001b[39m\u001b[38;5;28;01mimport\u001b[39;00m logger\n\u001b[1;32m     12\u001b[0m \u001b[38;5;28;01mfrom\u001b[39;00m\u001b[38;5;250m \u001b[39m\u001b[38;5;21;01munstructured\u001b[39;00m\u001b[38;5;21;01m.\u001b[39;00m\u001b[38;5;21;01mutils\u001b[39;00m\u001b[38;5;250m \u001b[39m\u001b[38;5;28;01mimport\u001b[39;00m requires_dependencies\n",
      "\u001b[0;31mImportError\u001b[0m: cannot import name 'PSSyntaxError' from 'pdfminer.pdfparser' (/home/sangram/python_pratice/llm/llm_run/lib/python3.11/site-packages/pdfminer/pdfparser.py)"
     ]
    }
   ],
   "source": [
    "from langchain.document_loaders import PyMuPDFLoader,UnstructuredPDFLoader\n",
    "resume='/home/sangram/python_pratice/llm/test_llm/my_resume_project/Resume_sangram_SR_Manager_latest2025.pdf'\n",
    "loader_resume=PyMuPDFLoader(resume)\n",
    "loader_resume_un=UnstructuredPDFLoader(resume,partition_via_api = True)\n",
    "pages=loader_resume.load()\n",
    "pages_un=loader_resume_un.load()"
   ]
  },
  {
   "cell_type": "code",
   "execution_count": 2,
   "id": "84510394",
   "metadata": {},
   "outputs": [
    {
     "data": {
      "text/plain": [
       "[Document(metadata={'producer': 'LibreOffice 6.4', 'creator': 'Writer', 'creationdate': '2025-04-26T17:30:46+05:30', 'source': '/home/sangram/python_pratice/llm/test_llm/my_resume_project/Resume_sangram_SR_Manager_latest2025.pdf', 'file_path': '/home/sangram/python_pratice/llm/test_llm/my_resume_project/Resume_sangram_SR_Manager_latest2025.pdf', 'total_pages': 4, 'format': 'PDF 1.5', 'title': '', 'author': '', 'subject': '', 'keywords': '', 'moddate': '', 'trapped': '', 'modDate': '', 'creationDate': \"D:20250426173046+05'30'\", 'page': 0}, page_content='Sangram Singh,\\nMobile -09958907649                                                       \\nEmail: sangre53@gmail.com, \\nsangram_singh23@yahoo.com, \\nAddress: - Ameerpet, Hyderabad, Telangana\\nExecutive Summary:\\nDynamic and adaptable leader with 15+ years of experience across roles like Site \\nrelibity Engineering ( SRE ), Operations and Production Support, and 1.9+  years in\\nKPI-driven people management Leadership role. Known for quickly learning \\nnew systems, technologies, and processes to enhance efficiency and deliver \\norganizational goals. Combines deep technical expertise in on-prem , cloud \\nsolutions and generative AI  with a strong focus on team performance and \\nleadership.\\nTechnical Skills\\nDevops, Hadoop Administration, SAS Viya 4.0 & SAS 3.5, Kubernetes, Helm, Git, \\nDocker, Linux Administration,  Ansible, Vertica Database, Python/Shell Script, \\nAirflow, AWS Networking and Security, TerraformTerraformTerraform, \\nPrometheus, Grafana, AWS Lambda,GCP Cloud Administration, Gentraive AI, \\nAgentatic AI, Retrieval Augmented Generation RAG, People management, Project \\nmanagement. \\nORGANIZATIONAL EXPERIENCE:\\nNAME: Verizon Data Services, India                         Tenure: Sept-2023-Present\\nROLE:  Sr Platform Engineering Manager\\nKey Achievements : \\n1. Led Agile transformation for 8+ teams across offshore and onshore models, \\nimproving collaboration and delivery. Increased 50% in Resource utlization and  \\nOptimzed Resource $120K Cost Saving.\\n2. Developed an SRE dashboard, saving $1M annually by enhancing \\noperational efficiency and reliability.\\n3. Optimized vendor resource allocation, implementing automation and metrics\\nto achieve $120K cost savings.\\n4. Managed four cross-functional teams (30+ members), resolving conflicts \\nand driving high performance.\\n5. Established an AI-driven AIOps team, delivering two anomaly detection use \\ncases to improve system reliability and saved 2M license and processing cost'),\n",
       " Document(metadata={'producer': 'LibreOffice 6.4', 'creator': 'Writer', 'creationdate': '2025-04-26T17:30:46+05:30', 'source': '/home/sangram/python_pratice/llm/test_llm/my_resume_project/Resume_sangram_SR_Manager_latest2025.pdf', 'file_path': '/home/sangram/python_pratice/llm/test_llm/my_resume_project/Resume_sangram_SR_Manager_latest2025.pdf', 'total_pages': 4, 'format': 'PDF 1.5', 'title': '', 'author': '', 'subject': '', 'keywords': '', 'moddate': '', 'trapped': '', 'modDate': '', 'creationDate': \"D:20250426173046+05'30'\", 'page': 1}, page_content='6. Implemented executive reporting processes, ensuring timely updates and \\nstrategic alignment for leadership.\\nProject Management  Responsibilities\\n●\\nAutomated infrastructure processes, reducing operational workload and \\nimproving engineering efficiency.\\n●\\nLed cloud and on-prem cost reduction initiatives, optimizing infrastructure \\nspend through automation.\\n●\\nManaged sprint planning, backlog grooming, and stand-ups, ensuring \\nproject timelines and budgets were met.\\n●\\nDeveloped strategic roadmaps for next-generation infrastructure \\ntechnologies and process improvements.\\n●\\nLed stakeholder management, collaborating with developers, architects, \\nbusiness, operations, and vendors.\\n●\\nEnsured production system hygiene, defining and maintaining best practices\\nfor stability and performance.\\n●\\nMentored and managed platform engineers, fostering innovation and \\ncontinuous improvement.\\n●\\nProvided technical guidance, ensuring best practices in software \\ndevelopment, architecture, and operations.\\n●\\nDesigned, developed, and deployed scalable platform solutions, ensuring\\nsystem reliability and efficiency.\\nNAME: Experian India , Hyderabad, India Tenure: April-2019-Present\\nROLE: Site Reliability Engineer (Big Data Admin/Cloud Admin/Devops/Team Lead)\\nKey Achievements : \\n●Led end-to-end setup of SAS Viya application integrated with Hadoop as a data\\nsource.Helped to retain $3M Billing Customer.\\n●Implemented Terraform-first approach, developing multiple modules like MSK,\\nOpenSearch, and Neptune.\\n●Automated  patching  of  400  services  in  1  hour  using  Ansible,  improving\\nefficiency and security.\\n●Executed  AWS  DataSync  migration  of  99TB  data,  ensuring  seamless  and\\nefficient data transfer.\\n●Containerized  EC2  native  applications  and  deployed  them  on  AWS  ECS  for\\nbetter scalability.'),\n",
       " Document(metadata={'producer': 'LibreOffice 6.4', 'creator': 'Writer', 'creationdate': '2025-04-26T17:30:46+05:30', 'source': '/home/sangram/python_pratice/llm/test_llm/my_resume_project/Resume_sangram_SR_Manager_latest2025.pdf', 'file_path': '/home/sangram/python_pratice/llm/test_llm/my_resume_project/Resume_sangram_SR_Manager_latest2025.pdf', 'total_pages': 4, 'format': 'PDF 1.5', 'title': '', 'author': '', 'subject': '', 'keywords': '', 'moddate': '', 'trapped': '', 'modDate': '', 'creationDate': \"D:20250426173046+05'30'\", 'page': 2}, page_content='●Established  proactive  issue  resolution  and  automation,  preventing  recurring\\nproblems and enhancing stability.\\n●Led monitoring initiatives to identify and mitigate risks with proactive actions.\\n●Handled customer  escalations  across  offshore and onshore  teams,  restoring\\nclient confidence.\\n●Trained  and  mentored  team  members  to  prevent  skill  churn  and  ensure\\ncontinuous technical growth.\\n●Expert in AWS networking and security solutions, including NAT Gateway, VPC,\\nSecurity Groups, S3, ECS, DNS, and AD.\\n●Managed Hadoop cluster operations, including capacity planning, node scaling,\\nand security.\\n●Designed  and  maintained  Kubernetes  clusters  (AWS  EKS)  in  private  cloud\\nenvironments.\\nZeta Global, Hyderabad India                          Tenure: Oct-2017-April-2019  \\nROLE: Big data Engineer\\nKey Achievements: \\n•\\nInstall  and  Confuigred  100+  Node  Hadoop  Cluster,  to  help  in  Platform\\nMordinization\\n•\\nNAME: Global Logic, Noida                                   Tenure: Feb-2015-Oct-2017\\nROLE: Big data Engineer\\nKey Achievements: \\n●Developed expertise in Vertica and Hadoop ecosystem for big data processing\\nand analytics.\\n●Provided technical support to 50+ international customers on Vertica database\\nadministration and optimization.\\nNAME: Wipro InfoTech, Gurugram                      Tenure: June 2011-Feb-2015      \\nROLE: Oracle DBA\\nKey Achievements: \\n●Expertise in Oracle RAC, Data Guard, GoldenGate, Exadata, AIX, HPUX, RedHat\\nLinux, and MS SQL Server.\\n●Installed  and  configured  22+  Oracle  RAC  setups  for  high-availability  and\\nperformance optimization.'),\n",
       " Document(metadata={'producer': 'LibreOffice 6.4', 'creator': 'Writer', 'creationdate': '2025-04-26T17:30:46+05:30', 'source': '/home/sangram/python_pratice/llm/test_llm/my_resume_project/Resume_sangram_SR_Manager_latest2025.pdf', 'file_path': '/home/sangram/python_pratice/llm/test_llm/my_resume_project/Resume_sangram_SR_Manager_latest2025.pdf', 'total_pages': 4, 'format': 'PDF 1.5', 'title': '', 'author': '', 'subject': '', 'keywords': '', 'moddate': '', 'trapped': '', 'modDate': '', 'creationDate': \"D:20250426173046+05'30'\", 'page': 3}, page_content=\"●Managed database solutions for 10+ national and international clients, ensuring\\nseamless operations and implementation\\n●Led,  mentored,  and  trained  five  junior  engineers on  Oracle  database\\ntechnologies and best practices.\\nNAME: TCS, Gurugram             Tenure: Nov 2010-June-2011                       ROLE: \\nOracle DBA\\nKey Achievements: \\n●Installed  and  configured\\n 10+  Oracle  Databases, \\nensuring  optimal\\nperformance and reliability.\\n●Self-initiated Oracle Data Guard implementation for a 2TB database with only\\nthree years of experience.\\n●Developed  multiple  automation  solutions,  saving  500+  manual  hours  and\\nimproving efficiency.\\nNAME: CMS Infosystem Pvt. Limited        Tenure: June 2011-Feb-2015      ROLE: \\nSite lead and  Oracle DBA\\nKey Achievements: \\n●Led  site  readiness  and  infrastructure  implementation  for Train  Running\\nStatus  automation across 3  divisions.\\n●Trained  and  collaborated  with  Indian  Railway,\\n more  than\\n100+employees to ensure smooth automation adoption \\n●Worked as Oracle DBA and site lead, managing installation, configuration, and\\ntechnical support for Oracle Database.\\nAcademic and Professional Qualification:\\n●\\nBTech. (CSE) from UPTU in 2007\\n●\\nHigher Secondary (12th) from UP Board Allahabad in 2001\\n●\\nHigh School (10th) from UP Board Allahabad in 1999\\nPersonal Profile:\\nDate of Birth\\n:23rd May 1984\\nFather's Name\\n: Sri Ram Singh\\nMarital status \\n: Married \\nLanguages Known \\n: Hindi & English\\nHobbies\\n: Coin Collection, Cooking, Reading Books. \\nStrengths                   : Self-motivation Sincere & Hard working, Team Player, Refuse To give up\\n                          \\nDeclaration: I hereby declare that the above information is correct to the best of my \\nknowledge.\\nPlace: \\nDate:\\n                                                                                                                              \\n(Sangram Singh)\")]"
      ]
     },
     "execution_count": 2,
     "metadata": {},
     "output_type": "execute_result"
    }
   ],
   "source": [
    "pages"
   ]
  },
  {
   "cell_type": "code",
   "execution_count": 5,
   "id": "27e56704",
   "metadata": {},
   "outputs": [],
   "source": [
    "from langchain.text_splitter import CharacterTextSplitter\n",
    "text_split=CharacterTextSplitter(\n",
    "      separator=\"\\n\",\n",
    "      chunk_size=1000,\n",
    "      chunk_overlap=150,\n",
    "      length_function=len\n",
    ")\n",
    "doc=text_split.split_documents(pages)"
   ]
  },
  {
   "cell_type": "code",
   "execution_count": 8,
   "id": "757bd2b7",
   "metadata": {},
   "outputs": [
    {
     "data": {
      "text/plain": [
       "(10, 4)"
      ]
     },
     "execution_count": 8,
     "metadata": {},
     "output_type": "execute_result"
    }
   ],
   "source": [
    "doc\n",
    "len(doc),len(pages)"
   ]
  },
  {
   "cell_type": "markdown",
   "id": "7c23db4d",
   "metadata": {},
   "source": [
    "remove Whitespace"
   ]
  },
  {
   "cell_type": "code",
   "execution_count": 9,
   "id": "be9c72f1",
   "metadata": {},
   "outputs": [],
   "source": [
    "def remove_ws(d):\n",
    "      text=d.page_content.replace('\\n','')\n",
    "      d.page_content=text\n",
    "      return d\n",
    "doc=[remove_ws(d) for d in doc]"
   ]
  },
  {
   "cell_type": "code",
   "execution_count": 10,
   "id": "74a80f49",
   "metadata": {},
   "outputs": [
    {
     "data": {
      "text/plain": [
       "[Document(metadata={'producer': 'LibreOffice 6.4', 'creator': 'Writer', 'creationdate': '2025-04-26T17:30:46+05:30', 'source': '/home/sangram/python_pratice/llm/test_llm/my_resume_project/Resume_sangram_SR_Manager_latest2025.pdf', 'file_path': '/home/sangram/python_pratice/llm/test_llm/my_resume_project/Resume_sangram_SR_Manager_latest2025.pdf', 'total_pages': 4, 'format': 'PDF 1.5', 'title': '', 'author': '', 'subject': '', 'keywords': '', 'moddate': '', 'trapped': '', 'modDate': '', 'creationDate': \"D:20250426173046+05'30'\", 'page': 0}, page_content='Sangram Singh,Mobile -09958907649                                                       Email: sangre53@gmail.com, sangram_singh23@yahoo.com, Address: - Ameerpet, Hyderabad, TelanganaExecutive Summary:Dynamic and adaptable leader with 15+ years of experience across roles like Site relibity Engineering ( SRE ), Operations and Production Support, and 1.9+  years inKPI-driven people management Leadership role. Known for quickly learning new systems, technologies, and processes to enhance efficiency and deliver organizational goals. Combines deep technical expertise in on-prem , cloud solutions and generative AI  with a strong focus on team performance and leadership.Technical SkillsDevops, Hadoop Administration, SAS Viya 4.0 & SAS 3.5, Kubernetes, Helm, Git, Docker, Linux Administration,  Ansible, Vertica Database, Python/Shell Script, Airflow, AWS Networking and Security, TerraformTerraformTerraform,'),\n",
       " Document(metadata={'producer': 'LibreOffice 6.4', 'creator': 'Writer', 'creationdate': '2025-04-26T17:30:46+05:30', 'source': '/home/sangram/python_pratice/llm/test_llm/my_resume_project/Resume_sangram_SR_Manager_latest2025.pdf', 'file_path': '/home/sangram/python_pratice/llm/test_llm/my_resume_project/Resume_sangram_SR_Manager_latest2025.pdf', 'total_pages': 4, 'format': 'PDF 1.5', 'title': '', 'author': '', 'subject': '', 'keywords': '', 'moddate': '', 'trapped': '', 'modDate': '', 'creationDate': \"D:20250426173046+05'30'\", 'page': 0}, page_content='Docker, Linux Administration,  Ansible, Vertica Database, Python/Shell Script, Airflow, AWS Networking and Security, TerraformTerraformTerraform, Prometheus, Grafana, AWS Lambda,GCP Cloud Administration, Gentraive AI, Agentatic AI, Retrieval Augmented Generation RAG, People management, Project management. ORGANIZATIONAL EXPERIENCE:NAME: Verizon Data Services, India                         Tenure: Sept-2023-PresentROLE:  Sr Platform Engineering ManagerKey Achievements : 1. Led Agile transformation for 8+ teams across offshore and onshore models, improving collaboration and delivery. Increased 50% in Resource utlization and  Optimzed Resource $120K Cost Saving.2. Developed an SRE dashboard, saving $1M annually by enhancing operational efficiency and reliability.3. Optimized vendor resource allocation, implementing automation and metricsto achieve $120K cost savings.4. Managed four cross-functional teams (30+ members), resolving conflicts and driving high performance.'),\n",
       " Document(metadata={'producer': 'LibreOffice 6.4', 'creator': 'Writer', 'creationdate': '2025-04-26T17:30:46+05:30', 'source': '/home/sangram/python_pratice/llm/test_llm/my_resume_project/Resume_sangram_SR_Manager_latest2025.pdf', 'file_path': '/home/sangram/python_pratice/llm/test_llm/my_resume_project/Resume_sangram_SR_Manager_latest2025.pdf', 'total_pages': 4, 'format': 'PDF 1.5', 'title': '', 'author': '', 'subject': '', 'keywords': '', 'moddate': '', 'trapped': '', 'modDate': '', 'creationDate': \"D:20250426173046+05'30'\", 'page': 0}, page_content='to achieve $120K cost savings.4. Managed four cross-functional teams (30+ members), resolving conflicts and driving high performance.5. Established an AI-driven AIOps team, delivering two anomaly detection use cases to improve system reliability and saved 2M license and processing cost'),\n",
       " Document(metadata={'producer': 'LibreOffice 6.4', 'creator': 'Writer', 'creationdate': '2025-04-26T17:30:46+05:30', 'source': '/home/sangram/python_pratice/llm/test_llm/my_resume_project/Resume_sangram_SR_Manager_latest2025.pdf', 'file_path': '/home/sangram/python_pratice/llm/test_llm/my_resume_project/Resume_sangram_SR_Manager_latest2025.pdf', 'total_pages': 4, 'format': 'PDF 1.5', 'title': '', 'author': '', 'subject': '', 'keywords': '', 'moddate': '', 'trapped': '', 'modDate': '', 'creationDate': \"D:20250426173046+05'30'\", 'page': 1}, page_content='6. Implemented executive reporting processes, ensuring timely updates and strategic alignment for leadership.Project Management  Responsibilities●Automated infrastructure processes, reducing operational workload and improving engineering efficiency.●Led cloud and on-prem cost reduction initiatives, optimizing infrastructure spend through automation.●Managed sprint planning, backlog grooming, and stand-ups, ensuring project timelines and budgets were met.●Developed strategic roadmaps for next-generation infrastructure technologies and process improvements.●Led stakeholder management, collaborating with developers, architects, business, operations, and vendors.●Ensured production system hygiene, defining and maintaining best practicesfor stability and performance.●Mentored and managed platform engineers, fostering innovation and continuous improvement.●Provided technical guidance, ensuring best practices in software development, architecture, and operations.●'),\n",
       " Document(metadata={'producer': 'LibreOffice 6.4', 'creator': 'Writer', 'creationdate': '2025-04-26T17:30:46+05:30', 'source': '/home/sangram/python_pratice/llm/test_llm/my_resume_project/Resume_sangram_SR_Manager_latest2025.pdf', 'file_path': '/home/sangram/python_pratice/llm/test_llm/my_resume_project/Resume_sangram_SR_Manager_latest2025.pdf', 'total_pages': 4, 'format': 'PDF 1.5', 'title': '', 'author': '', 'subject': '', 'keywords': '', 'moddate': '', 'trapped': '', 'modDate': '', 'creationDate': \"D:20250426173046+05'30'\", 'page': 1}, page_content='continuous improvement.●Provided technical guidance, ensuring best practices in software development, architecture, and operations.●Designed, developed, and deployed scalable platform solutions, ensuringsystem reliability and efficiency.NAME: Experian India , Hyderabad, India Tenure: April-2019-PresentROLE: Site Reliability Engineer (Big Data Admin/Cloud Admin/Devops/Team Lead)Key Achievements : ●Led end-to-end setup of SAS Viya application integrated with Hadoop as a datasource.Helped to retain $3M Billing Customer.●Implemented Terraform-first approach, developing multiple modules like MSK,OpenSearch, and Neptune.●Automated  patching  of  400  services  in  1  hour  using  Ansible,  improvingefficiency and security.●Executed  AWS  DataSync  migration  of  99TB  data,  ensuring  seamless  andefficient data transfer.●Containerized  EC2  native  applications  and  deployed  them  on  AWS  ECS  forbetter scalability.'),\n",
       " Document(metadata={'producer': 'LibreOffice 6.4', 'creator': 'Writer', 'creationdate': '2025-04-26T17:30:46+05:30', 'source': '/home/sangram/python_pratice/llm/test_llm/my_resume_project/Resume_sangram_SR_Manager_latest2025.pdf', 'file_path': '/home/sangram/python_pratice/llm/test_llm/my_resume_project/Resume_sangram_SR_Manager_latest2025.pdf', 'total_pages': 4, 'format': 'PDF 1.5', 'title': '', 'author': '', 'subject': '', 'keywords': '', 'moddate': '', 'trapped': '', 'modDate': '', 'creationDate': \"D:20250426173046+05'30'\", 'page': 2}, page_content='●Established  proactive  issue  resolution  and  automation,  preventing  recurringproblems and enhancing stability.●Led monitoring initiatives to identify and mitigate risks with proactive actions.●Handled customer  escalations  across  offshore and onshore  teams,  restoringclient confidence.●Trained  and  mentored  team  members  to  prevent  skill  churn  and  ensurecontinuous technical growth.●Expert in AWS networking and security solutions, including NAT Gateway, VPC,Security Groups, S3, ECS, DNS, and AD.●Managed Hadoop cluster operations, including capacity planning, node scaling,and security.●Designed  and  maintained  Kubernetes  clusters  (AWS  EKS)  in  private  cloudenvironments.Zeta Global, Hyderabad India                          Tenure: Oct-2017-April-2019  ROLE: Big data EngineerKey Achievements: •Install  and  Confuigred  100+  Node  Hadoop  Cluster,  to  help  in  PlatformMordinization•'),\n",
       " Document(metadata={'producer': 'LibreOffice 6.4', 'creator': 'Writer', 'creationdate': '2025-04-26T17:30:46+05:30', 'source': '/home/sangram/python_pratice/llm/test_llm/my_resume_project/Resume_sangram_SR_Manager_latest2025.pdf', 'file_path': '/home/sangram/python_pratice/llm/test_llm/my_resume_project/Resume_sangram_SR_Manager_latest2025.pdf', 'total_pages': 4, 'format': 'PDF 1.5', 'title': '', 'author': '', 'subject': '', 'keywords': '', 'moddate': '', 'trapped': '', 'modDate': '', 'creationDate': \"D:20250426173046+05'30'\", 'page': 2}, page_content='ROLE: Big data EngineerKey Achievements: •Install  and  Confuigred  100+  Node  Hadoop  Cluster,  to  help  in  PlatformMordinization•NAME: Global Logic, Noida                                   Tenure: Feb-2015-Oct-2017ROLE: Big data EngineerKey Achievements: ●Developed expertise in Vertica and Hadoop ecosystem for big data processingand analytics.●Provided technical support to 50+ international customers on Vertica databaseadministration and optimization.NAME: Wipro InfoTech, Gurugram                      Tenure: June 2011-Feb-2015      ROLE: Oracle DBAKey Achievements: ●Expertise in Oracle RAC, Data Guard, GoldenGate, Exadata, AIX, HPUX, RedHatLinux, and MS SQL Server.●Installed  and  configured  22+  Oracle  RAC  setups  for  high-availability  andperformance optimization.'),\n",
       " Document(metadata={'producer': 'LibreOffice 6.4', 'creator': 'Writer', 'creationdate': '2025-04-26T17:30:46+05:30', 'source': '/home/sangram/python_pratice/llm/test_llm/my_resume_project/Resume_sangram_SR_Manager_latest2025.pdf', 'file_path': '/home/sangram/python_pratice/llm/test_llm/my_resume_project/Resume_sangram_SR_Manager_latest2025.pdf', 'total_pages': 4, 'format': 'PDF 1.5', 'title': '', 'author': '', 'subject': '', 'keywords': '', 'moddate': '', 'trapped': '', 'modDate': '', 'creationDate': \"D:20250426173046+05'30'\", 'page': 3}, page_content='●Managed database solutions for 10+ national and international clients, ensuringseamless operations and implementation●Led,  mentored,  and  trained  five  junior  engineers on  Oracle  databasetechnologies and best practices.NAME: TCS, Gurugram             Tenure: Nov 2010-June-2011                       ROLE: Oracle DBAKey Achievements: ●Installed  and  configured 10+  Oracle  Databases, ensuring  optimalperformance and reliability.●Self-initiated Oracle Data Guard implementation for a 2TB database with onlythree years of experience.●Developed  multiple  automation  solutions,  saving  500+  manual  hours  andimproving efficiency.NAME: CMS Infosystem Pvt. Limited        Tenure: June 2011-Feb-2015      ROLE: Site lead and  Oracle DBAKey Achievements: ●Led  site  readiness  and  infrastructure  implementation  for Train  RunningStatus  automation across 3  divisions.●Trained  and  collaborated  with  Indian  Railway, more  than'),\n",
       " Document(metadata={'producer': 'LibreOffice 6.4', 'creator': 'Writer', 'creationdate': '2025-04-26T17:30:46+05:30', 'source': '/home/sangram/python_pratice/llm/test_llm/my_resume_project/Resume_sangram_SR_Manager_latest2025.pdf', 'file_path': '/home/sangram/python_pratice/llm/test_llm/my_resume_project/Resume_sangram_SR_Manager_latest2025.pdf', 'total_pages': 4, 'format': 'PDF 1.5', 'title': '', 'author': '', 'subject': '', 'keywords': '', 'moddate': '', 'trapped': '', 'modDate': '', 'creationDate': \"D:20250426173046+05'30'\", 'page': 3}, page_content=\"Status  automation across 3  divisions.●Trained  and  collaborated  with  Indian  Railway, more  than100+employees to ensure smooth automation adoption ●Worked as Oracle DBA and site lead, managing installation, configuration, andtechnical support for Oracle Database.Academic and Professional Qualification:●BTech. (CSE) from UPTU in 2007●Higher Secondary (12th) from UP Board Allahabad in 2001●High School (10th) from UP Board Allahabad in 1999Personal Profile:Date of Birth:23rd May 1984Father's Name: Sri Ram SinghMarital status : Married Languages Known : Hindi & EnglishHobbies: Coin Collection, Cooking, Reading Books. Strengths                   : Self-motivation Sincere & Hard working, Team Player, Refuse To give up                          Declaration: I hereby declare that the above information is correct to the best of my knowledge.Place: Date:\"),\n",
       " Document(metadata={'producer': 'LibreOffice 6.4', 'creator': 'Writer', 'creationdate': '2025-04-26T17:30:46+05:30', 'source': '/home/sangram/python_pratice/llm/test_llm/my_resume_project/Resume_sangram_SR_Manager_latest2025.pdf', 'file_path': '/home/sangram/python_pratice/llm/test_llm/my_resume_project/Resume_sangram_SR_Manager_latest2025.pdf', 'total_pages': 4, 'format': 'PDF 1.5', 'title': '', 'author': '', 'subject': '', 'keywords': '', 'moddate': '', 'trapped': '', 'modDate': '', 'creationDate': \"D:20250426173046+05'30'\", 'page': 3}, page_content='Declaration: I hereby declare that the above information is correct to the best of my knowledge.Place: Date:                                                                                                                              (Sangram Singh)')]"
      ]
     },
     "execution_count": 10,
     "metadata": {},
     "output_type": "execute_result"
    }
   ],
   "source": [
    "doc"
   ]
  },
  {
   "cell_type": "code",
   "execution_count": 14,
   "id": "f1b58d01",
   "metadata": {},
   "outputs": [
    {
     "name": "stdout",
     "output_type": "stream",
     "text": [
      "['/home/sangram/python_pratice/llm/test_llm', '/home/sangram/python_pratice/llm/test_llm', '/usr/lib/python311.zip', '/usr/lib/python3.11', '/usr/lib/python3.11/lib-dynload', '', '/home/sangram/python_pratice/llm/llm_run/lib/python3.11/site-packages', '/home/sangram/python_pratice/llm/llm_run/lib/python3.11/site-packages/onnxruntime/transformers', '/home/sangram/python_pratice/llm/llm_run/lib/python3.11/site-packages/onnxruntime/transformers/../tools']\n",
      "API key found and looks good so far!\n"
     ]
    }
   ],
   "source": [
    "from langchain_openai.embeddings import OpenAIEmbeddings\n",
    "import sys\n",
    "import os\n",
    "sys.path.insert(0,\"/home/sangram/python_pratice/llm/test_llm\")\n",
    "print(sys.path)\n",
    "from  project_forntend.LLM import import_llm_key \n",
    "embeddings=OpenAIEmbeddings(api_key=import_llm_key())"
   ]
  },
  {
   "cell_type": "code",
   "execution_count": 15,
   "id": "ff2a25ab",
   "metadata": {},
   "outputs": [],
   "source": [
    "import faiss\n",
    "from langchain_community.vectorstores import FAISS\n",
    "db=FAISS.from_documents(doc,embeddings)"
   ]
  },
  {
   "cell_type": "code",
   "execution_count": 18,
   "id": "3b0b3872",
   "metadata": {},
   "outputs": [],
   "source": [
    "query=\"list the heading of every section from resume\"\n",
    "answer=db.similarity_search(query)\n",
    "retriever=db.as_retriever(search_kwargs={'k':3})"
   ]
  },
  {
   "cell_type": "code",
   "execution_count": 22,
   "id": "fefbdc15",
   "metadata": {},
   "outputs": [],
   "source": [
    "from langchain_core.output_parsers import StrOutputParser\n",
    "from langchain_core.prompts import ChatPromptTemplate\n",
    "from langchain_core.runnables import RunnablePassthrough\n"
   ]
  },
  {
   "cell_type": "code",
   "execution_count": 23,
   "id": "8fb6fd1f",
   "metadata": {},
   "outputs": [],
   "source": [
    "from langchain.prompts import PromptTemplate\n"
   ]
  },
  {
   "cell_type": "code",
   "execution_count": 26,
   "id": "fc79a3cc",
   "metadata": {},
   "outputs": [],
   "source": [
    "template=\"\"\"\n",
    "Persona:\n",
    "You are an expert in writing resumes for people who are looking for jobs. You guide them on the best format to showcase their skills and experience. You take information from their current resume and rewrite it into a new, improved format using the same content.\n",
    "context: {context}\n",
    "query: {query}\n",
    "\"\"\""
   ]
  },
  {
   "cell_type": "code",
   "execution_count": 28,
   "id": "52f122e4",
   "metadata": {},
   "outputs": [],
   "source": [
    "prompt_template=PromptTemplate.from_template(template)"
   ]
  },
  {
   "cell_type": "code",
   "execution_count": 35,
   "id": "e0a6b15d",
   "metadata": {},
   "outputs": [],
   "source": [
    "chain=(\n",
    "      {\"context\": retriever,\n",
    "       \"query\": RunnablePassthrough()}|prompt_template|llm|StrOutputParser()\n",
    ")"
   ]
  },
  {
   "cell_type": "code",
   "execution_count": 36,
   "id": "8e59a8b5",
   "metadata": {},
   "outputs": [
    {
     "data": {
      "text/plain": [
       "\"The main headings of the candidate's resume are as follows:\\n\\n1. **Personal Information**\\n2. **Executive Summary**\\n3. **Technical Skills**\\n4. **Professional Experience** (implied from the content)\\n5. **Academic and Professional Qualification**\\n6. **Personal Profile**\\n7. **Declaration**\""
      ]
     },
     "execution_count": 36,
     "metadata": {},
     "output_type": "execute_result"
    }
   ],
   "source": [
    "chain.invoke('List the main heading of candiate resume')"
   ]
  }
 ],
 "metadata": {
  "kernelspec": {
   "display_name": "llm_run",
   "language": "python",
   "name": "python3"
  },
  "language_info": {
   "codemirror_mode": {
    "name": "ipython",
    "version": 3
   },
   "file_extension": ".py",
   "mimetype": "text/x-python",
   "name": "python",
   "nbconvert_exporter": "python",
   "pygments_lexer": "ipython3",
   "version": "3.11.11"
  }
 },
 "nbformat": 4,
 "nbformat_minor": 5
}
